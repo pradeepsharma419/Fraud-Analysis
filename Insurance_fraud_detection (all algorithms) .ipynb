{
 "cells": [
  {
   "cell_type": "markdown",
   "id": "473e1e99",
   "metadata": {},
   "source": [
    "# EDA(Exploratory Data Analysis )"
   ]
  },
  {
   "cell_type": "code",
   "execution_count": 1,
   "id": "1267d5e9",
   "metadata": {},
   "outputs": [],
   "source": [
    "#import necessary libraries\n",
    "import pandas as pd\n",
    "import numpy as np\n",
    "import warnings\n",
    "warnings.filterwarnings('ignore')"
   ]
  },
  {
   "cell_type": "code",
   "execution_count": 2,
   "id": "244d9c6b",
   "metadata": {},
   "outputs": [],
   "source": [
    "fraud_ml = pd.read_csv(\"D:\\\\Fraud_data_final_new.csv\")"
   ]
  },
  {
   "cell_type": "code",
   "execution_count": 3,
   "id": "10760931",
   "metadata": {},
   "outputs": [
    {
     "data": {
      "text/plain": [
       "(1484540, 17)"
      ]
     },
     "execution_count": 3,
     "metadata": {},
     "output_type": "execute_result"
    }
   ],
   "source": [
    "fraud_ml.shape"
   ]
  },
  {
   "cell_type": "code",
   "execution_count": 4,
   "id": "294a052a",
   "metadata": {},
   "outputs": [
    {
     "data": {
      "text/html": [
       "<div>\n",
       "<style scoped>\n",
       "    .dataframe tbody tr th:only-of-type {\n",
       "        vertical-align: middle;\n",
       "    }\n",
       "\n",
       "    .dataframe tbody tr th {\n",
       "        vertical-align: top;\n",
       "    }\n",
       "\n",
       "    .dataframe thead th {\n",
       "        text-align: right;\n",
       "    }\n",
       "</style>\n",
       "<table border=\"1\" class=\"dataframe\">\n",
       "  <thead>\n",
       "    <tr style=\"text-align: right;\">\n",
       "      <th></th>\n",
       "      <th>Unnamed: 0</th>\n",
       "      <th>Area_Service</th>\n",
       "      <th>Age</th>\n",
       "      <th>Gender</th>\n",
       "      <th>Cultural_group</th>\n",
       "      <th>ethnicity</th>\n",
       "      <th>Admission_type</th>\n",
       "      <th>Home or self care,</th>\n",
       "      <th>ccs_procedure_code</th>\n",
       "      <th>Mortality risk</th>\n",
       "      <th>Surg_Description</th>\n",
       "      <th>Weight_baby</th>\n",
       "      <th>Emergency dept_yes/No</th>\n",
       "      <th>Tot_charg</th>\n",
       "      <th>ratio_of_total_costs_to_total_charges</th>\n",
       "      <th>Payment_Typology</th>\n",
       "      <th>Result</th>\n",
       "    </tr>\n",
       "  </thead>\n",
       "  <tbody>\n",
       "    <tr>\n",
       "      <th>0</th>\n",
       "      <td>0</td>\n",
       "      <td>6</td>\n",
       "      <td>3</td>\n",
       "      <td>0</td>\n",
       "      <td>2</td>\n",
       "      <td>0</td>\n",
       "      <td>3</td>\n",
       "      <td>7</td>\n",
       "      <td>0</td>\n",
       "      <td>1.0</td>\n",
       "      <td>0</td>\n",
       "      <td>0</td>\n",
       "      <td>1</td>\n",
       "      <td>5511.95</td>\n",
       "      <td>1.012798</td>\n",
       "      <td>1</td>\n",
       "      <td>1</td>\n",
       "    </tr>\n",
       "    <tr>\n",
       "      <th>1</th>\n",
       "      <td>1</td>\n",
       "      <td>6</td>\n",
       "      <td>5</td>\n",
       "      <td>0</td>\n",
       "      <td>2</td>\n",
       "      <td>0</td>\n",
       "      <td>2</td>\n",
       "      <td>17</td>\n",
       "      <td>0</td>\n",
       "      <td>2.0</td>\n",
       "      <td>0</td>\n",
       "      <td>0</td>\n",
       "      <td>1</td>\n",
       "      <td>4783.20</td>\n",
       "      <td>1.079365</td>\n",
       "      <td>1</td>\n",
       "      <td>1</td>\n",
       "    </tr>\n",
       "    <tr>\n",
       "      <th>2</th>\n",
       "      <td>2</td>\n",
       "      <td>6</td>\n",
       "      <td>3</td>\n",
       "      <td>0</td>\n",
       "      <td>2</td>\n",
       "      <td>0</td>\n",
       "      <td>2</td>\n",
       "      <td>7</td>\n",
       "      <td>0</td>\n",
       "      <td>1.0</td>\n",
       "      <td>0</td>\n",
       "      <td>0</td>\n",
       "      <td>1</td>\n",
       "      <td>3829.15</td>\n",
       "      <td>1.059379</td>\n",
       "      <td>1</td>\n",
       "      <td>1</td>\n",
       "    </tr>\n",
       "    <tr>\n",
       "      <th>3</th>\n",
       "      <td>3</td>\n",
       "      <td>6</td>\n",
       "      <td>1</td>\n",
       "      <td>0</td>\n",
       "      <td>2</td>\n",
       "      <td>0</td>\n",
       "      <td>2</td>\n",
       "      <td>7</td>\n",
       "      <td>0</td>\n",
       "      <td>1.0</td>\n",
       "      <td>0</td>\n",
       "      <td>0</td>\n",
       "      <td>1</td>\n",
       "      <td>1108.20</td>\n",
       "      <td>1.484167</td>\n",
       "      <td>1</td>\n",
       "      <td>0</td>\n",
       "    </tr>\n",
       "    <tr>\n",
       "      <th>4</th>\n",
       "      <td>4</td>\n",
       "      <td>6</td>\n",
       "      <td>5</td>\n",
       "      <td>0</td>\n",
       "      <td>2</td>\n",
       "      <td>0</td>\n",
       "      <td>3</td>\n",
       "      <td>7</td>\n",
       "      <td>0</td>\n",
       "      <td>3.0</td>\n",
       "      <td>0</td>\n",
       "      <td>0</td>\n",
       "      <td>1</td>\n",
       "      <td>3418.18</td>\n",
       "      <td>0.986161</td>\n",
       "      <td>1</td>\n",
       "      <td>1</td>\n",
       "    </tr>\n",
       "  </tbody>\n",
       "</table>\n",
       "</div>"
      ],
      "text/plain": [
       "   Unnamed: 0  Area_Service  Age  Gender  Cultural_group  ethnicity  \\\n",
       "0           0             6    3       0               2          0   \n",
       "1           1             6    5       0               2          0   \n",
       "2           2             6    3       0               2          0   \n",
       "3           3             6    1       0               2          0   \n",
       "4           4             6    5       0               2          0   \n",
       "\n",
       "   Admission_type  Home or self care,  ccs_procedure_code  Mortality risk  \\\n",
       "0               3                   7                   0             1.0   \n",
       "1               2                  17                   0             2.0   \n",
       "2               2                   7                   0             1.0   \n",
       "3               2                   7                   0             1.0   \n",
       "4               3                   7                   0             3.0   \n",
       "\n",
       "   Surg_Description  Weight_baby  Emergency dept_yes/No  Tot_charg  \\\n",
       "0                 0            0                      1    5511.95   \n",
       "1                 0            0                      1    4783.20   \n",
       "2                 0            0                      1    3829.15   \n",
       "3                 0            0                      1    1108.20   \n",
       "4                 0            0                      1    3418.18   \n",
       "\n",
       "   ratio_of_total_costs_to_total_charges  Payment_Typology  Result  \n",
       "0                               1.012798                 1       1  \n",
       "1                               1.079365                 1       1  \n",
       "2                               1.059379                 1       1  \n",
       "3                               1.484167                 1       0  \n",
       "4                               0.986161                 1       1  "
      ]
     },
     "execution_count": 4,
     "metadata": {},
     "output_type": "execute_result"
    }
   ],
   "source": [
    "fraud_ml.head()"
   ]
  },
  {
   "cell_type": "code",
   "execution_count": 5,
   "id": "4b1a868a",
   "metadata": {},
   "outputs": [
    {
     "data": {
      "text/html": [
       "<div>\n",
       "<style scoped>\n",
       "    .dataframe tbody tr th:only-of-type {\n",
       "        vertical-align: middle;\n",
       "    }\n",
       "\n",
       "    .dataframe tbody tr th {\n",
       "        vertical-align: top;\n",
       "    }\n",
       "\n",
       "    .dataframe thead th {\n",
       "        text-align: right;\n",
       "    }\n",
       "</style>\n",
       "<table border=\"1\" class=\"dataframe\">\n",
       "  <thead>\n",
       "    <tr style=\"text-align: right;\">\n",
       "      <th></th>\n",
       "      <th>Area_Service</th>\n",
       "      <th>Age</th>\n",
       "      <th>Gender</th>\n",
       "      <th>Cultural_group</th>\n",
       "      <th>ethnicity</th>\n",
       "      <th>Admission_type</th>\n",
       "      <th>Home or self care,</th>\n",
       "      <th>ccs_procedure_code</th>\n",
       "      <th>Mortality risk</th>\n",
       "      <th>Surg_Description</th>\n",
       "      <th>Weight_baby</th>\n",
       "      <th>Emergency dept_yes/No</th>\n",
       "      <th>Tot_charg</th>\n",
       "      <th>ratio_of_total_costs_to_total_charges</th>\n",
       "      <th>Payment_Typology</th>\n",
       "      <th>Result</th>\n",
       "    </tr>\n",
       "  </thead>\n",
       "  <tbody>\n",
       "    <tr>\n",
       "      <th>0</th>\n",
       "      <td>6</td>\n",
       "      <td>3</td>\n",
       "      <td>0</td>\n",
       "      <td>2</td>\n",
       "      <td>0</td>\n",
       "      <td>3</td>\n",
       "      <td>7</td>\n",
       "      <td>0</td>\n",
       "      <td>1.0</td>\n",
       "      <td>0</td>\n",
       "      <td>0</td>\n",
       "      <td>1</td>\n",
       "      <td>5511.95</td>\n",
       "      <td>1.012798</td>\n",
       "      <td>1</td>\n",
       "      <td>1</td>\n",
       "    </tr>\n",
       "    <tr>\n",
       "      <th>1</th>\n",
       "      <td>6</td>\n",
       "      <td>5</td>\n",
       "      <td>0</td>\n",
       "      <td>2</td>\n",
       "      <td>0</td>\n",
       "      <td>2</td>\n",
       "      <td>17</td>\n",
       "      <td>0</td>\n",
       "      <td>2.0</td>\n",
       "      <td>0</td>\n",
       "      <td>0</td>\n",
       "      <td>1</td>\n",
       "      <td>4783.20</td>\n",
       "      <td>1.079365</td>\n",
       "      <td>1</td>\n",
       "      <td>1</td>\n",
       "    </tr>\n",
       "    <tr>\n",
       "      <th>2</th>\n",
       "      <td>6</td>\n",
       "      <td>3</td>\n",
       "      <td>0</td>\n",
       "      <td>2</td>\n",
       "      <td>0</td>\n",
       "      <td>2</td>\n",
       "      <td>7</td>\n",
       "      <td>0</td>\n",
       "      <td>1.0</td>\n",
       "      <td>0</td>\n",
       "      <td>0</td>\n",
       "      <td>1</td>\n",
       "      <td>3829.15</td>\n",
       "      <td>1.059379</td>\n",
       "      <td>1</td>\n",
       "      <td>1</td>\n",
       "    </tr>\n",
       "    <tr>\n",
       "      <th>3</th>\n",
       "      <td>6</td>\n",
       "      <td>1</td>\n",
       "      <td>0</td>\n",
       "      <td>2</td>\n",
       "      <td>0</td>\n",
       "      <td>2</td>\n",
       "      <td>7</td>\n",
       "      <td>0</td>\n",
       "      <td>1.0</td>\n",
       "      <td>0</td>\n",
       "      <td>0</td>\n",
       "      <td>1</td>\n",
       "      <td>1108.20</td>\n",
       "      <td>1.484167</td>\n",
       "      <td>1</td>\n",
       "      <td>0</td>\n",
       "    </tr>\n",
       "    <tr>\n",
       "      <th>4</th>\n",
       "      <td>6</td>\n",
       "      <td>5</td>\n",
       "      <td>0</td>\n",
       "      <td>2</td>\n",
       "      <td>0</td>\n",
       "      <td>3</td>\n",
       "      <td>7</td>\n",
       "      <td>0</td>\n",
       "      <td>3.0</td>\n",
       "      <td>0</td>\n",
       "      <td>0</td>\n",
       "      <td>1</td>\n",
       "      <td>3418.18</td>\n",
       "      <td>0.986161</td>\n",
       "      <td>1</td>\n",
       "      <td>1</td>\n",
       "    </tr>\n",
       "    <tr>\n",
       "      <th>...</th>\n",
       "      <td>...</td>\n",
       "      <td>...</td>\n",
       "      <td>...</td>\n",
       "      <td>...</td>\n",
       "      <td>...</td>\n",
       "      <td>...</td>\n",
       "      <td>...</td>\n",
       "      <td>...</td>\n",
       "      <td>...</td>\n",
       "      <td>...</td>\n",
       "      <td>...</td>\n",
       "      <td>...</td>\n",
       "      <td>...</td>\n",
       "      <td>...</td>\n",
       "      <td>...</td>\n",
       "      <td>...</td>\n",
       "    </tr>\n",
       "    <tr>\n",
       "      <th>1484535</th>\n",
       "      <td>3</td>\n",
       "      <td>1</td>\n",
       "      <td>1</td>\n",
       "      <td>2</td>\n",
       "      <td>0</td>\n",
       "      <td>1</td>\n",
       "      <td>7</td>\n",
       "      <td>80</td>\n",
       "      <td>1.0</td>\n",
       "      <td>1</td>\n",
       "      <td>0</td>\n",
       "      <td>1</td>\n",
       "      <td>70621.61</td>\n",
       "      <td>0.360746</td>\n",
       "      <td>2</td>\n",
       "      <td>0</td>\n",
       "    </tr>\n",
       "    <tr>\n",
       "      <th>1484536</th>\n",
       "      <td>6</td>\n",
       "      <td>5</td>\n",
       "      <td>1</td>\n",
       "      <td>2</td>\n",
       "      <td>0</td>\n",
       "      <td>1</td>\n",
       "      <td>7</td>\n",
       "      <td>59</td>\n",
       "      <td>3.0</td>\n",
       "      <td>1</td>\n",
       "      <td>0</td>\n",
       "      <td>1</td>\n",
       "      <td>43787.97</td>\n",
       "      <td>0.487077</td>\n",
       "      <td>2</td>\n",
       "      <td>0</td>\n",
       "    </tr>\n",
       "    <tr>\n",
       "      <th>1484537</th>\n",
       "      <td>0</td>\n",
       "      <td>2</td>\n",
       "      <td>1</td>\n",
       "      <td>2</td>\n",
       "      <td>0</td>\n",
       "      <td>1</td>\n",
       "      <td>7</td>\n",
       "      <td>219</td>\n",
       "      <td>1.0</td>\n",
       "      <td>0</td>\n",
       "      <td>0</td>\n",
       "      <td>1</td>\n",
       "      <td>6866.05</td>\n",
       "      <td>0.369444</td>\n",
       "      <td>2</td>\n",
       "      <td>0</td>\n",
       "    </tr>\n",
       "    <tr>\n",
       "      <th>1484538</th>\n",
       "      <td>2</td>\n",
       "      <td>4</td>\n",
       "      <td>0</td>\n",
       "      <td>2</td>\n",
       "      <td>0</td>\n",
       "      <td>1</td>\n",
       "      <td>8</td>\n",
       "      <td>147</td>\n",
       "      <td>1.0</td>\n",
       "      <td>1</td>\n",
       "      <td>0</td>\n",
       "      <td>1</td>\n",
       "      <td>10424.93</td>\n",
       "      <td>0.480414</td>\n",
       "      <td>1</td>\n",
       "      <td>0</td>\n",
       "    </tr>\n",
       "    <tr>\n",
       "      <th>1484539</th>\n",
       "      <td>3</td>\n",
       "      <td>5</td>\n",
       "      <td>0</td>\n",
       "      <td>2</td>\n",
       "      <td>0</td>\n",
       "      <td>3</td>\n",
       "      <td>7</td>\n",
       "      <td>224</td>\n",
       "      <td>3.0</td>\n",
       "      <td>0</td>\n",
       "      <td>0</td>\n",
       "      <td>0</td>\n",
       "      <td>32569.44</td>\n",
       "      <td>0.451594</td>\n",
       "      <td>3</td>\n",
       "      <td>0</td>\n",
       "    </tr>\n",
       "  </tbody>\n",
       "</table>\n",
       "<p>1484540 rows × 16 columns</p>\n",
       "</div>"
      ],
      "text/plain": [
       "         Area_Service  Age  Gender  Cultural_group  ethnicity  Admission_type  \\\n",
       "0                   6    3       0               2          0               3   \n",
       "1                   6    5       0               2          0               2   \n",
       "2                   6    3       0               2          0               2   \n",
       "3                   6    1       0               2          0               2   \n",
       "4                   6    5       0               2          0               3   \n",
       "...               ...  ...     ...             ...        ...             ...   \n",
       "1484535             3    1       1               2          0               1   \n",
       "1484536             6    5       1               2          0               1   \n",
       "1484537             0    2       1               2          0               1   \n",
       "1484538             2    4       0               2          0               1   \n",
       "1484539             3    5       0               2          0               3   \n",
       "\n",
       "         Home or self care,  ccs_procedure_code  Mortality risk  \\\n",
       "0                         7                   0             1.0   \n",
       "1                        17                   0             2.0   \n",
       "2                         7                   0             1.0   \n",
       "3                         7                   0             1.0   \n",
       "4                         7                   0             3.0   \n",
       "...                     ...                 ...             ...   \n",
       "1484535                   7                  80             1.0   \n",
       "1484536                   7                  59             3.0   \n",
       "1484537                   7                 219             1.0   \n",
       "1484538                   8                 147             1.0   \n",
       "1484539                   7                 224             3.0   \n",
       "\n",
       "         Surg_Description  Weight_baby  Emergency dept_yes/No  Tot_charg  \\\n",
       "0                       0            0                      1    5511.95   \n",
       "1                       0            0                      1    4783.20   \n",
       "2                       0            0                      1    3829.15   \n",
       "3                       0            0                      1    1108.20   \n",
       "4                       0            0                      1    3418.18   \n",
       "...                   ...          ...                    ...        ...   \n",
       "1484535                 1            0                      1   70621.61   \n",
       "1484536                 1            0                      1   43787.97   \n",
       "1484537                 0            0                      1    6866.05   \n",
       "1484538                 1            0                      1   10424.93   \n",
       "1484539                 0            0                      0   32569.44   \n",
       "\n",
       "         ratio_of_total_costs_to_total_charges  Payment_Typology  Result  \n",
       "0                                     1.012798                 1       1  \n",
       "1                                     1.079365                 1       1  \n",
       "2                                     1.059379                 1       1  \n",
       "3                                     1.484167                 1       0  \n",
       "4                                     0.986161                 1       1  \n",
       "...                                        ...               ...     ...  \n",
       "1484535                               0.360746                 2       0  \n",
       "1484536                               0.487077                 2       0  \n",
       "1484537                               0.369444                 2       0  \n",
       "1484538                               0.480414                 1       0  \n",
       "1484539                               0.451594                 3       0  \n",
       "\n",
       "[1484540 rows x 16 columns]"
      ]
     },
     "execution_count": 5,
     "metadata": {},
     "output_type": "execute_result"
    }
   ],
   "source": [
    "fraud_ml=fraud_ml.drop(['Unnamed: 0'],axis=1)\n",
    "fraud_ml"
   ]
  },
  {
   "cell_type": "code",
   "execution_count": 6,
   "id": "68f4d5e1",
   "metadata": {},
   "outputs": [],
   "source": [
    "x_res = fraud_ml.drop(['Result'], axis=1)\n",
    "y_res = fraud_ml['Result']"
   ]
  },
  {
   "cell_type": "markdown",
   "id": "d5ad884b",
   "metadata": {},
   "source": [
    "## MACHINE LEARNING ALGORITHMS"
   ]
  },
  {
   "cell_type": "markdown",
   "id": "859e9e03",
   "metadata": {},
   "source": [
    "# 1.RANDOM FOREST  CLASSIFIER"
   ]
  },
  {
   "cell_type": "code",
   "execution_count": 7,
   "id": "7f7bbc97",
   "metadata": {},
   "outputs": [],
   "source": [
    "from sklearn.model_selection import train_test_split\n",
    "x_train,x_test,y_train,y_test = train_test_split(x_res,y_res,test_size = 0.30,random_state=40)"
   ]
  },
  {
   "cell_type": "markdown",
   "id": "58665619",
   "metadata": {},
   "source": [
    "# Building model"
   ]
  },
  {
   "cell_type": "code",
   "execution_count": 8,
   "id": "9d1d547b",
   "metadata": {
    "scrolled": true
   },
   "outputs": [
    {
     "data": {
      "text/plain": [
       "RandomForestClassifier(criterion='entropy', n_estimators=15, n_jobs=3,\n",
       "                       oob_score=True)"
      ]
     },
     "execution_count": 8,
     "metadata": {},
     "output_type": "execute_result"
    }
   ],
   "source": [
    "from sklearn.ensemble import RandomForestClassifier as RF\n",
    "model = RF(n_jobs=3,n_estimators=15,oob_score=True,criterion='entropy')\n",
    "model.fit(x_train,y_train)"
   ]
  },
  {
   "cell_type": "markdown",
   "id": "8b438aef",
   "metadata": {},
   "source": [
    "# Validation of model"
   ]
  },
  {
   "cell_type": "code",
   "execution_count": 9,
   "id": "a82c2793",
   "metadata": {},
   "outputs": [],
   "source": [
    "y_pred_train= model.predict(x_train)"
   ]
  },
  {
   "cell_type": "code",
   "execution_count": 10,
   "id": "de98a52f",
   "metadata": {},
   "outputs": [],
   "source": [
    "from sklearn.metrics import accuracy_score\n",
    "from sklearn.metrics import confusion_matrix\n",
    "from sklearn.metrics import classification_report"
   ]
  },
  {
   "cell_type": "code",
   "execution_count": 11,
   "id": "1b8a1cf1",
   "metadata": {},
   "outputs": [
    {
     "name": "stdout",
     "output_type": "stream",
     "text": [
      "Accuracy of training model 0.9953751907757863\n",
      "==============================================================================\n",
      "Confusion Matrics [[518119   1802]\n",
      " [  3004 516253]]\n",
      "==============================================================================\n",
      "Classificaton Report                precision    recall  f1-score   support\n",
      "\n",
      "           0       0.99      1.00      1.00    519921\n",
      "           1       1.00      0.99      1.00    519257\n",
      "\n",
      "    accuracy                           1.00   1039178\n",
      "   macro avg       1.00      1.00      1.00   1039178\n",
      "weighted avg       1.00      1.00      1.00   1039178\n",
      "\n"
     ]
    }
   ],
   "source": [
    "print(\"Accuracy of training model\",accuracy_score(y_train,y_pred_train))\n",
    "print(\"==============================================================================\")\n",
    "print(\"Confusion Matrics\",confusion_matrix(y_train,y_pred_train))\n",
    "print(\"==============================================================================\")\n",
    "print(\"Classificaton Report \",classification_report(y_train,y_pred_train))"
   ]
  },
  {
   "cell_type": "code",
   "execution_count": 12,
   "id": "7e676518",
   "metadata": {},
   "outputs": [],
   "source": [
    "y_pred_test= model.predict(x_test)"
   ]
  },
  {
   "cell_type": "code",
   "execution_count": 13,
   "id": "80459e28",
   "metadata": {},
   "outputs": [
    {
     "name": "stdout",
     "output_type": "stream",
     "text": [
      "Accuracy of testing model 0.8227554214324527\n",
      "==============================================================================\n",
      "Confusion Matrics [[198484  23865]\n",
      " [ 55073 167940]]\n",
      "==============================================================================\n",
      "Classificaton Report               precision    recall  f1-score   support\n",
      "\n",
      "           0       0.78      0.89      0.83    222349\n",
      "           1       0.88      0.75      0.81    223013\n",
      "\n",
      "    accuracy                           0.82    445362\n",
      "   macro avg       0.83      0.82      0.82    445362\n",
      "weighted avg       0.83      0.82      0.82    445362\n",
      "\n"
     ]
    }
   ],
   "source": [
    "print(\"Accuracy of testing model\",accuracy_score(y_test,y_pred_test))\n",
    "print(\"==============================================================================\")\n",
    "print(\"Confusion Matrics\",confusion_matrix(y_test,y_pred_test))\n",
    "print(\"==============================================================================\")\n",
    "print(\"Classificaton Report\",classification_report(y_test,y_pred_test))"
   ]
  },
  {
   "cell_type": "markdown",
   "id": "b3504d9b",
   "metadata": {},
   "source": [
    "# 2.LOGISTIC REGRESSION"
   ]
  },
  {
   "cell_type": "code",
   "execution_count": 14,
   "id": "63165982",
   "metadata": {},
   "outputs": [],
   "source": [
    "from sklearn.model_selection import train_test_split\n",
    "x_train,x_test,y_train,y_test = train_test_split(x_res,y_res,test_size = 0.30,random_state=40)"
   ]
  },
  {
   "cell_type": "code",
   "execution_count": 15,
   "id": "43db18d8",
   "metadata": {},
   "outputs": [],
   "source": [
    "from sklearn.linear_model import LogisticRegression\n",
    "lr=LogisticRegression()"
   ]
  },
  {
   "cell_type": "code",
   "execution_count": 16,
   "id": "5db39e02",
   "metadata": {},
   "outputs": [
    {
     "data": {
      "text/plain": [
       "LogisticRegression()"
      ]
     },
     "execution_count": 16,
     "metadata": {},
     "output_type": "execute_result"
    }
   ],
   "source": [
    "lr.fit(x_train,y_train)"
   ]
  },
  {
   "cell_type": "code",
   "execution_count": 17,
   "id": "c308e9ba",
   "metadata": {},
   "outputs": [],
   "source": [
    "y_pred_train=lr.predict(x_train)"
   ]
  },
  {
   "cell_type": "code",
   "execution_count": 18,
   "id": "962e74f9",
   "metadata": {},
   "outputs": [],
   "source": [
    "from sklearn.metrics import accuracy_score\n",
    "from sklearn.metrics import confusion_matrix\n",
    "from sklearn.metrics import classification_report"
   ]
  },
  {
   "cell_type": "code",
   "execution_count": 19,
   "id": "0914e549",
   "metadata": {},
   "outputs": [
    {
     "name": "stdout",
     "output_type": "stream",
     "text": [
      "Accuracy of training model 0.5003146717886637\n",
      "==============================================================================\n",
      "Confusion Matrics [[519904     17]\n",
      " [519245     12]]\n",
      "==============================================================================\n",
      "Classificaton Report                precision    recall  f1-score   support\n",
      "\n",
      "           0       0.50      1.00      0.67    519921\n",
      "           1       0.41      0.00      0.00    519257\n",
      "\n",
      "    accuracy                           0.50   1039178\n",
      "   macro avg       0.46      0.50      0.33   1039178\n",
      "weighted avg       0.46      0.50      0.33   1039178\n",
      "\n"
     ]
    }
   ],
   "source": [
    "print(\"Accuracy of training model\",accuracy_score(y_train,y_pred_train))\n",
    "print(\"==============================================================================\")\n",
    "print(\"Confusion Matrics\",confusion_matrix(y_train,y_pred_train))\n",
    "print(\"==============================================================================\")\n",
    "print(\"Classificaton Report \",classification_report(y_train,y_pred_train))"
   ]
  },
  {
   "cell_type": "code",
   "execution_count": 20,
   "id": "86dfa83f",
   "metadata": {},
   "outputs": [],
   "source": [
    "y_pred_test1= lr.predict(x_test)"
   ]
  },
  {
   "cell_type": "code",
   "execution_count": 21,
   "id": "13176edf",
   "metadata": {},
   "outputs": [
    {
     "name": "stdout",
     "output_type": "stream",
     "text": [
      "Accuracy of testing model 0.4992522936397807\n",
      "==============================================================================\n",
      "Confusion Matrics [[222341      8]\n",
      " [223006      7]]\n",
      "==============================================================================\n",
      "Classificaton Report               precision    recall  f1-score   support\n",
      "\n",
      "           0       0.50      1.00      0.67    222349\n",
      "           1       0.47      0.00      0.00    223013\n",
      "\n",
      "    accuracy                           0.50    445362\n",
      "   macro avg       0.48      0.50      0.33    445362\n",
      "weighted avg       0.48      0.50      0.33    445362\n",
      "\n"
     ]
    }
   ],
   "source": [
    "print(\"Accuracy of testing model\",accuracy_score(y_test,y_pred_test1))\n",
    "print(\"==============================================================================\")\n",
    "print(\"Confusion Matrics\",confusion_matrix(y_test,y_pred_test1))\n",
    "print(\"==============================================================================\")\n",
    "print(\"Classificaton Report\",classification_report(y_test,y_pred_test1))"
   ]
  },
  {
   "cell_type": "markdown",
   "id": "ee0d03fd",
   "metadata": {},
   "source": [
    "# 3.DECISION TREE"
   ]
  },
  {
   "cell_type": "code",
   "execution_count": 22,
   "id": "911d9ac5",
   "metadata": {},
   "outputs": [],
   "source": [
    "from sklearn.tree import DecisionTreeClassifier\n",
    "dt_model = DecisionTreeClassifier()"
   ]
  },
  {
   "cell_type": "code",
   "execution_count": 23,
   "id": "30ee5647",
   "metadata": {},
   "outputs": [
    {
     "name": "stdout",
     "output_type": "stream",
     "text": [
      "{'criterion': 'gini', 'max_depth': 10}\n",
      "0.5026723059710061\n"
     ]
    }
   ],
   "source": [
    "from sklearn.model_selection import GridSearchCV\n",
    "\n",
    "grid_search = GridSearchCV(estimator = dt_model,\n",
    "                           param_grid = {'criterion':['entropy','gini'],\n",
    "                                         'max_depth':[2,3,4,5,6,7,8,9,10]},\n",
    "                           cv=5)\n",
    "grid_search.fit(x_train,y_train)\n",
    "print(grid_search.best_params_)\n",
    "print(grid_search.best_score_)"
   ]
  },
  {
   "cell_type": "code",
   "execution_count": 24,
   "id": "3308c6c1",
   "metadata": {},
   "outputs": [
    {
     "data": {
      "text/plain": [
       "DecisionTreeClassifier(criterion='entropy', max_depth=2)"
      ]
     },
     "execution_count": 24,
     "metadata": {},
     "output_type": "execute_result"
    }
   ],
   "source": [
    "dt_model = DecisionTreeClassifier(criterion='entropy',max_depth=2)\n",
    "dt_model.fit(x_train,y_train)"
   ]
  },
  {
   "cell_type": "code",
   "execution_count": 25,
   "id": "d9f71ed7",
   "metadata": {},
   "outputs": [
    {
     "name": "stdout",
     "output_type": "stream",
     "text": [
      "Accuracy score for the training data: 0.5018158583033898\n"
     ]
    }
   ],
   "source": [
    "y_pred_train_DT = dt_model.predict(x_train)\n",
    "print(\"Accuracy score for the training data:\" , accuracy_score(y_train, y_pred_train_DT))"
   ]
  },
  {
   "cell_type": "code",
   "execution_count": 26,
   "id": "737e1e66",
   "metadata": {},
   "outputs": [
    {
     "name": "stdout",
     "output_type": "stream",
     "text": [
      "Accuracy score for the testing data: 0.5028224231074946\n"
     ]
    }
   ],
   "source": [
    "y_pred_test_DT = dt_model.predict(x_test)\n",
    "print(\"Accuracy score for the testing data:\" , accuracy_score(y_test, y_pred_test_DT))"
   ]
  },
  {
   "cell_type": "code",
   "execution_count": 27,
   "id": "cdc5f2b8",
   "metadata": {},
   "outputs": [
    {
     "data": {
      "image/png": "[encoded data removed]",
      "text/plain": [
       "<Figure size 1440x576 with 1 Axes>"
      ]
     },
     "metadata": {
      "needs_background": "light"
     },
     "output_type": "display_data"
    }
   ],
   "source": [
    "from sklearn.tree import plot_tree\n",
    "import matplotlib.pyplot as plt\n",
    "\n",
    "plt.figure(figsize =(20,8))\n",
    "plot_tree(decision_tree = dt_model, filled = True)\n",
    "plt.show()"
   ]
  },
  {
   "cell_type": "markdown",
   "id": "2da8873c",
   "metadata": {},
   "source": [
    "# 4.Adaboost "
   ]
  },
  {
   "cell_type": "code",
   "execution_count": 28,
   "id": "7ad56b4f",
   "metadata": {},
   "outputs": [
    {
     "data": {
      "text/plain": [
       "AdaBoostClassifier()"
      ]
     },
     "execution_count": 28,
     "metadata": {},
     "output_type": "execute_result"
    }
   ],
   "source": [
    "from sklearn.ensemble import AdaBoostClassifier\n",
    "from sklearn.datasets import make_classification\n",
    "adb_classifier=AdaBoostClassifier(base_estimator=None)\n",
    "adb_classifier.fit(x_train,y_train)"
   ]
  },
  {
   "cell_type": "code",
   "execution_count": 29,
   "id": "4d891d42",
   "metadata": {},
   "outputs": [],
   "source": [
    "y_pred_train=adb_classifier.predict(x_train)"
   ]
  },
  {
   "cell_type": "code",
   "execution_count": 30,
   "id": "9c37dccb",
   "metadata": {},
   "outputs": [
    {
     "name": "stdout",
     "output_type": "stream",
     "text": [
      "Accuracy of training model 0.5057988140626534\n",
      "==============================================================================\n",
      "Confusion Matrics [[252260 267661]\n",
      " [245902 273355]]\n",
      "==============================================================================\n",
      "Classification Report                precision    recall  f1-score   support\n",
      "\n",
      "           0       0.51      0.49      0.50    519921\n",
      "           1       0.51      0.53      0.52    519257\n",
      "\n",
      "    accuracy                           0.51   1039178\n",
      "   macro avg       0.51      0.51      0.51   1039178\n",
      "weighted avg       0.51      0.51      0.51   1039178\n",
      "\n"
     ]
    }
   ],
   "source": [
    "print(\"Accuracy of training model\",accuracy_score(y_train,y_pred_train))\n",
    "print(\"==============================================================================\")\n",
    "print(\"Confusion Matrics\",confusion_matrix(y_train,y_pred_train))\n",
    "print(\"==============================================================================\")\n",
    "print(\"Classification Report \",classification_report(y_train,y_pred_train))"
   ]
  },
  {
   "cell_type": "code",
   "execution_count": 31,
   "id": "825eed1e",
   "metadata": {},
   "outputs": [],
   "source": [
    "y_pred_test1= adb_classifier.predict(x_test)"
   ]
  },
  {
   "cell_type": "code",
   "execution_count": 32,
   "id": "a71f9ad8",
   "metadata": {},
   "outputs": [
    {
     "name": "stdout",
     "output_type": "stream",
     "text": [
      "Accuracy of testing model 0.5031906628764915\n",
      "==============================================================================\n",
      "Confusion Matrics [[107164 115185]\n",
      " [106075 116938]]\n",
      "==============================================================================\n",
      "Classification Report               precision    recall  f1-score   support\n",
      "\n",
      "           0       0.50      0.48      0.49    222349\n",
      "           1       0.50      0.52      0.51    223013\n",
      "\n",
      "    accuracy                           0.50    445362\n",
      "   macro avg       0.50      0.50      0.50    445362\n",
      "weighted avg       0.50      0.50      0.50    445362\n",
      "\n"
     ]
    }
   ],
   "source": [
    "print(\"Accuracy of testing model\",accuracy_score(y_test,y_pred_test1))\n",
    "print(\"==============================================================================\")\n",
    "print(\"Confusion Matrics\",confusion_matrix(y_test,y_pred_test1))\n",
    "print(\"==============================================================================\")\n",
    "print(\"Classification Report\",classification_report(y_test,y_pred_test1))"
   ]
  }
 ],
 "metadata": {
  "kernelspec": {
   "display_name": "Python 3 (ipykernel)",
   "language": "python",
   "name": "python3"
  },
  "language_info": {
   "codemirror_mode": {
    "name": "ipython",
    "version": 3
   },
   "file_extension": ".py",
   "mimetype": "text/x-python",
   "name": "python",
   "nbconvert_exporter": "python",
   "pygments_lexer": "ipython3",
   "version": "3.9.7"
  }
 },
 "nbformat": 4,
 "nbformat_minor": 5
}
